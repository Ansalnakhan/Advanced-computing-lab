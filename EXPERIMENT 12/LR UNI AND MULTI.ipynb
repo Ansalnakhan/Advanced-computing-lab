{
  "nbformat": 4,
  "nbformat_minor": 0,
  "metadata": {
    "colab": {
      "name": "Untitled52.ipynb",
      "provenance": [],
      "authorship_tag": "ABX9TyMdVrdNS0G0B4qA6IBokt8G",
      "include_colab_link": true
    },
    "kernelspec": {
      "name": "python3",
      "display_name": "Python 3"
    },
    "language_info": {
      "name": "python"
    }
  },
  "cells": [
    {
      "cell_type": "markdown",
      "metadata": {
        "id": "view-in-github",
        "colab_type": "text"
      },
      "source": [
        "<a href=\"https://colab.research.google.com/github/Ansalnakhan/Advanced-computing-lab/blob/main/EXPERIMENT%2012/LR%20UNI%20AND%20MULTI.ipynb\" target=\"_parent\"><img src=\"https://colab.research.google.com/assets/colab-badge.svg\" alt=\"Open In Colab\"/></a>"
      ]
    },
    {
      "cell_type": "code",
      "execution_count": 13,
      "metadata": {
        "colab": {
          "base_uri": "https://localhost:8080/"
        },
        "id": "8j5EYyo345i1",
        "outputId": "25af1d74-8092-48d0-9a1d-92288353a557"
      },
      "outputs": [
        {
          "output_type": "execute_result",
          "data": {
            "text/plain": [
              "array([497.41900852])"
            ]
          },
          "metadata": {},
          "execution_count": 13
        }
      ],
      "source": [
        "import numpy as np\n",
        "import pandas as pd\n",
        "import matplotlib.pyplot as plt\n",
        "from sklearn. datasets import make_regression\n",
        "data = make_regression (n_samples=10, n_features=1,\n",
        "n_targets=1,bias=15, noise=5, random_state=42)\n",
        "X= pd. DataFrame (data[0]). values\n",
        "Y= pd. Series (data[1]). values\n",
        "from sklearn.linear_model import LinearRegression\n",
        "LR= LinearRegression()\n",
        "LR.fit (X, Y)\n",
        "y_pred = LR.predict (X)\n",
        "LR.predict([[25]])\n",
        "\n",
        "\n"
      ]
    },
    {
      "cell_type": "code",
      "source": [
        "\n",
        "import numpy as mp\n",
        "import pandas as pd\n",
        "import matplotlib.pyplot as plt\n",
        "from sklearn.datasets import make_regression\n",
        "data = make_regression(n_samples=100, n_features\n",
        "=5,random_state = 42,bias=15, noise=5,n_targets=1)\n",
        "X= pd.DataFrame(data[0])\n",
        "y= pd.Series(data[1])\n",
        "from sklearn.linear_model import LinearRegression\n",
        "ml = LinearRegression()\n",
        "ml.fit (X,y)\n",
        "ml.predict([[2.5,3,4,5,10]])\n"
      ],
      "metadata": {
        "colab": {
          "base_uri": "https://localhost:8080/"
        },
        "id": "2eLP-FBS7Ghs",
        "outputId": "19cff934-85bf-4a80-ec28-fcda62739f4f"
      },
      "execution_count": 40,
      "outputs": [
        {
          "output_type": "execute_result",
          "data": {
            "text/plain": [
              "array([1352.31757211])"
            ]
          },
          "metadata": {},
          "execution_count": 40
        }
      ]
    },
    {
      "cell_type": "code",
      "source": [
        ""
      ],
      "metadata": {
        "id": "rB3yGkpL9gI2"
      },
      "execution_count": null,
      "outputs": []
    }
  ]
}