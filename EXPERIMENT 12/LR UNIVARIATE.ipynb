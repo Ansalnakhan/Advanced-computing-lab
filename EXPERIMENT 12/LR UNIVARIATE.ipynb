{
  "nbformat": 4,
  "nbformat_minor": 0,
  "metadata": {
    "colab": {
      "name": "Untitled52.ipynb",
      "provenance": [],
      "authorship_tag": "ABX9TyOf8t24715Q4hgtWkgM24Xj",
      "include_colab_link": true
    },
    "kernelspec": {
      "name": "python3",
      "display_name": "Python 3"
    },
    "language_info": {
      "name": "python"
    }
  },
  "cells": [
    {
      "cell_type": "markdown",
      "metadata": {
        "id": "view-in-github",
        "colab_type": "text"
      },
      "source": [
        "<a href=\"https://colab.research.google.com/github/Ansalnakhan/Advanced-computing-lab/blob/main/EXPERIMENT%2012/LR%20UNIVARIATE.ipynb\" target=\"_parent\"><img src=\"https://colab.research.google.com/assets/colab-badge.svg\" alt=\"Open In Colab\"/></a>"
      ]
    },
    {
      "cell_type": "code",
      "execution_count": 13,
      "metadata": {
        "colab": {
          "base_uri": "https://localhost:8080/"
        },
        "id": "8j5EYyo345i1",
        "outputId": "25af1d74-8092-48d0-9a1d-92288353a557"
      },
      "outputs": [
        {
          "output_type": "execute_result",
          "data": {
            "text/plain": [
              "array([497.41900852])"
            ]
          },
          "metadata": {},
          "execution_count": 13
        }
      ],
      "source": [
        "import numpy as np\n",
        "import pandas as pd\n",
        "import matplotlib.pyplot as plt\n",
        "from sklearn. datasets import make_regression\n",
        "data = make_regression (n_samples=10, n_features=1,\n",
        "n_targets=1,bias=15, noise=5, random_state=42)\n",
        "X= pd. DataFrame (data[0]). values\n",
        "Y= pd. Series (data[1]). values\n",
        "from sklearn.linear_model import LinearRegression\n",
        "LR= LinearRegression()\n",
        "LR.fit (X, Y)\n",
        "y_pred = LR.predict (X)\n",
        "LR.predict([[25]])\n",
        "\n"
      ]
    },
    {
      "cell_type": "code",
      "source": [
        ""
      ],
      "metadata": {
        "id": "2eLP-FBS7Ghs"
      },
      "execution_count": null,
      "outputs": []
    }
  ]
}