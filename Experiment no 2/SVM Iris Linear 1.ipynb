{
  "nbformat": 4,
  "nbformat_minor": 0,
  "metadata": {
    "colab": {
      "name": "Untitled1.ipynb",
      "provenance": [],
      "authorship_tag": "ABX9TyPQbj+ctwgcgM2LgedY29yo",
      "include_colab_link": true
    },
    "kernelspec": {
      "name": "python3",
      "display_name": "Python 3"
    },
    "language_info": {
      "name": "python"
    }
  },
  "cells": [
    {
      "cell_type": "markdown",
      "metadata": {
        "id": "view-in-github",
        "colab_type": "text"
      },
      "source": [
        "<a href=\"https://colab.research.google.com/github/Ansalnakhan/Advanced-computing-lab/blob/main/Experiment%20no%202/SVM%20Iris%20Linear%201.ipynb\" target=\"_parent\"><img src=\"https://colab.research.google.com/assets/colab-badge.svg\" alt=\"Open In Colab\"/></a>"
      ]
    },
    {
      "cell_type": "code",
      "execution_count": 2,
      "metadata": {
        "id": "oDGKvlSjdwb2"
      },
      "outputs": [],
      "source": [
        "import pandas as pd\n",
        "file=pd.read_csv(\"/content/iris.csv\")\n",
        "X=file[[\"sepal.length\",\"sepal.width\",\"petal.length\",\"petal.width\"]]\n",
        "Y=file[\"variety\"]"
      ]
    },
    {
      "cell_type": "code",
      "source": [
        "from sklearn.svm import SVC\n",
        "ml=SVC(kernel='linear',C=6)\n",
        "ml=ml.fit(X,Y)\n",
        "res=ml.predict([[2.8,11.5,15.8,9]])\n",
        "print(res)"
      ],
      "metadata": {
        "colab": {
          "base_uri": "https://localhost:8080/"
        },
        "id": "dL9OgudpfNVL",
        "outputId": "59e26281-05e6-4c55-f2e7-3539f78f99a7"
      },
      "execution_count": 3,
      "outputs": [
        {
          "output_type": "stream",
          "name": "stdout",
          "text": [
            "['Virginica']\n"
          ]
        },
        {
          "output_type": "stream",
          "name": "stderr",
          "text": [
            "/usr/local/lib/python3.7/dist-packages/sklearn/base.py:451: UserWarning: X does not have valid feature names, but SVC was fitted with feature names\n",
            "  \"X does not have valid feature names, but\"\n"
          ]
        }
      ]
    }
  ]
}