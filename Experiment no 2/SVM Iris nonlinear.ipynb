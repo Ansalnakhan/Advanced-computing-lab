{
  "nbformat": 4,
  "nbformat_minor": 0,
  "metadata": {
    "colab": {
      "name": "Untitled3.ipynb",
      "provenance": [],
      "collapsed_sections": [],
      "authorship_tag": "ABX9TyMctGYoVBRaWAqE8gNToMhw",
      "include_colab_link": true
    },
    "kernelspec": {
      "name": "python3",
      "display_name": "Python 3"
    },
    "language_info": {
      "name": "python"
    }
  },
  "cells": [
    {
      "cell_type": "markdown",
      "metadata": {
        "id": "view-in-github",
        "colab_type": "text"
      },
      "source": [
        "<a href=\"https://colab.research.google.com/github/Ansalnakhan/Advanced-computing-lab/blob/main/Experiment%20no%202/SVM%20Iris%20nonlinear.ipynb\" target=\"_parent\"><img src=\"https://colab.research.google.com/assets/colab-badge.svg\" alt=\"Open In Colab\"/></a>"
      ]
    },
    {
      "cell_type": "code",
      "execution_count": 1,
      "metadata": {
        "id": "C3kLPh7PhVED"
      },
      "outputs": [],
      "source": [
        "from sklearn.datasets import load_iris\n",
        "file=load_iris()\n",
        "X=file.data\n",
        "Y=file.target"
      ]
    },
    {
      "cell_type": "code",
      "source": [
        "from sklearn.model_selection import train_test_split\n",
        "xtrain,xtest,ytrain,ytest=train_test_split(X,Y,train_size=0.7)"
      ],
      "metadata": {
        "id": "QwFQBkMsiDgF"
      },
      "execution_count": 2,
      "outputs": []
    },
    {
      "cell_type": "code",
      "source": [
        "from sklearn.svm import SVC\n",
        "ml=SVC(C=8,kernel=\"poly\",degree=2,gamma=\"scale\")\n",
        "ml=ml.fit(xtrain,ytrain)\n",
        "res=ml.predict(xtest)\n",
        "print(res)"
      ],
      "metadata": {
        "colab": {
          "base_uri": "https://localhost:8080/"
        },
        "id": "fPpZeTa2i4BI",
        "outputId": "3dcf5e28-abab-42be-8fcc-d4cb4683d060"
      },
      "execution_count": 5,
      "outputs": [
        {
          "output_type": "stream",
          "name": "stdout",
          "text": [
            "[1 0 2 2 2 0 1 0 2 1 0 0 2 0 2 0 2 2 2 0 1 0 0 2 2 0 2 2 0 0 1 2 0 1 2 0 1\n",
            " 1 0 0 0 0 0 1 2]\n"
          ]
        }
      ]
    },
    {
      "cell_type": "code",
      "source": [
        "from sklearn.metrics import accuracy_score\n",
        "score=accuracy_score(ytest,res)\n",
        "print(score*100)"
      ],
      "metadata": {
        "colab": {
          "base_uri": "https://localhost:8080/"
        },
        "id": "Po8TuIc1jMl9",
        "outputId": "2a9584d1-a5c2-41b5-c71a-06f8921ebc45"
      },
      "execution_count": 6,
      "outputs": [
        {
          "output_type": "stream",
          "name": "stdout",
          "text": [
            "95.55555555555556\n"
          ]
        }
      ]
    }
  ]
}