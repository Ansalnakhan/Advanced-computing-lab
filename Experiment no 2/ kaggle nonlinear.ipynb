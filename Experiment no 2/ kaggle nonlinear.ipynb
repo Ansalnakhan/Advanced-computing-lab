{
  "nbformat": 4,
  "nbformat_minor": 0,
  "metadata": {
    "colab": {
      "name": "Untitled8.ipynb",
      "provenance": [],
      "authorship_tag": "ABX9TyOgB/lJqyPlV/TaMCCVu3Vj",
      "include_colab_link": true
    },
    "kernelspec": {
      "name": "python3",
      "display_name": "Python 3"
    },
    "language_info": {
      "name": "python"
    }
  },
  "cells": [
    {
      "cell_type": "markdown",
      "metadata": {
        "id": "view-in-github",
        "colab_type": "text"
      },
      "source": [
        "<a href=\"https://colab.research.google.com/github/Ansalnakhan/Advanced-computing-lab/blob/main/Experiment%20no%202/%20kaggle%20nonlinear.ipynb\" target=\"_parent\"><img src=\"https://colab.research.google.com/assets/colab-badge.svg\" alt=\"Open In Colab\"/></a>"
      ]
    },
    {
      "cell_type": "code",
      "execution_count": 1,
      "metadata": {
        "id": "kpsQiRrry6Vo"
      },
      "outputs": [],
      "source": [
        "import pandas as pd\n",
        "file=pd.read_csv(\"/content/Social_Network_Ads.csv\")\n",
        "X=file[[\"Age\",\"EstimatedSalary\"]]\n",
        "Y=file[\"Purchased\"]"
      ]
    },
    {
      "cell_type": "code",
      "source": [
        "from sklearn.model_selection import train_test_split\n",
        "xtrain,xtest,ytrain,ytest=train_test_split(X,Y,train_size=0.8)\n",
        "from sklearn.svm import SVC\n",
        "ML=SVC(kernel=\"rbf\")\n",
        "ML=ML.fit(xtrain,ytrain)\n",
        "res=ML.predict(xtest)\n",
        "from sklearn.metrics import accuracy_score\n",
        "ac=accuracy_score(res,ytest)\n",
        "print(ac*100)"
      ],
      "metadata": {
        "colab": {
          "base_uri": "https://localhost:8080/"
        },
        "id": "U0RuKeGtzm0L",
        "outputId": "419d2c45-ac0e-4e45-9417-720862c58676"
      },
      "execution_count": 4,
      "outputs": [
        {
          "output_type": "stream",
          "name": "stdout",
          "text": [
            "78.75\n"
          ]
        }
      ]
    }
  ]
}