{
  "nbformat": 4,
  "nbformat_minor": 0,
  "metadata": {
    "colab": {
      "name": "Untitled31.ipynb",
      "provenance": [],
      "authorship_tag": "ABX9TyMnFzbgMr+RR+cu3M6Sskd8",
      "include_colab_link": true
    },
    "kernelspec": {
      "name": "python3",
      "display_name": "Python 3"
    },
    "language_info": {
      "name": "python"
    }
  },
  "cells": [
    {
      "cell_type": "markdown",
      "metadata": {
        "id": "view-in-github",
        "colab_type": "text"
      },
      "source": [
        "<a href=\"https://colab.research.google.com/github/Ansalnakhan/Advanced-computing-lab/blob/main/EXPERIMENT%207/DNN%20MODEL.ipynb\" target=\"_parent\"><img src=\"https://colab.research.google.com/assets/colab-badge.svg\" alt=\"Open In Colab\"/></a>"
      ]
    },
    {
      "cell_type": "code",
      "execution_count": 33,
      "metadata": {
        "id": "4ZfAAnrVmhP8"
      },
      "outputs": [],
      "source": [
        "from sklearn.datasets import load_iris"
      ]
    },
    {
      "cell_type": "code",
      "source": [
        "iris=load_iris()"
      ],
      "metadata": {
        "id": "lJNjWpTymuem"
      },
      "execution_count": 34,
      "outputs": []
    },
    {
      "cell_type": "code",
      "source": [
        "x=iris.data"
      ],
      "metadata": {
        "id": "xk3XBrsWnDAO"
      },
      "execution_count": 35,
      "outputs": []
    },
    {
      "cell_type": "code",
      "source": [
        "y=iris.target"
      ],
      "metadata": {
        "id": "AYPViSf4nKI1"
      },
      "execution_count": 36,
      "outputs": []
    },
    {
      "cell_type": "code",
      "source": [
        "from sklearn.model_selection import train_test_split"
      ],
      "metadata": {
        "id": "mxSj_XJFnPB0"
      },
      "execution_count": 37,
      "outputs": []
    },
    {
      "cell_type": "code",
      "source": [
        "x_train, x_test, y_train, y_test=train_test_split(x, y, test_size=0.2)"
      ],
      "metadata": {
        "id": "2HvsaGaWnZkZ"
      },
      "execution_count": 38,
      "outputs": []
    },
    {
      "cell_type": "code",
      "source": [
        "import tensorflow as tf"
      ],
      "metadata": {
        "id": "mt6nUcszn2vr"
      },
      "execution_count": 39,
      "outputs": []
    },
    {
      "cell_type": "code",
      "source": [
        "from tensorflow import keras"
      ],
      "metadata": {
        "id": "AtO8PKE8n7gj"
      },
      "execution_count": 40,
      "outputs": []
    },
    {
      "cell_type": "code",
      "source": [
        "Model = keras.models.Sequential()"
      ],
      "metadata": {
        "id": "uuFXnfGHoDBG"
      },
      "execution_count": 41,
      "outputs": []
    },
    {
      "cell_type": "code",
      "source": [
        "Model.add(keras.layers.Dense(units=5, activation='relu', input_dim=x.shape[1]))"
      ],
      "metadata": {
        "id": "qTS9DsSwohbd"
      },
      "execution_count": 42,
      "outputs": []
    },
    {
      "cell_type": "code",
      "source": [
        "Model.add(keras.layers.Dense(units=2, activation='relu'))"
      ],
      "metadata": {
        "id": "28D16ncepJje"
      },
      "execution_count": 43,
      "outputs": []
    },
    {
      "cell_type": "code",
      "source": [
        "Model.add(keras.layers.Dense(units=3, activation='sigmoid'))"
      ],
      "metadata": {
        "id": "bwSWBnhlpZLe"
      },
      "execution_count": 44,
      "outputs": []
    },
    {
      "cell_type": "code",
      "source": [
        "Model.summary()"
      ],
      "metadata": {
        "colab": {
          "base_uri": "https://localhost:8080/"
        },
        "id": "FLmMGTeUph0J",
        "outputId": "dd4ac78c-d047-4a39-d309-91315a63c2e0"
      },
      "execution_count": 45,
      "outputs": [
        {
          "output_type": "stream",
          "name": "stdout",
          "text": [
            "Model: \"sequential_2\"\n",
            "_________________________________________________________________\n",
            " Layer (type)                Output Shape              Param #   \n",
            "=================================================================\n",
            " dense_3 (Dense)             (None, 5)                 25        \n",
            "                                                                 \n",
            " dense_4 (Dense)             (None, 2)                 12        \n",
            "                                                                 \n",
            " dense_5 (Dense)             (None, 3)                 9         \n",
            "                                                                 \n",
            "=================================================================\n",
            "Total params: 46\n",
            "Trainable params: 46\n",
            "Non-trainable params: 0\n",
            "_________________________________________________________________\n"
          ]
        }
      ]
    },
    {
      "cell_type": "code",
      "source": [
        "Model.compile(loss='sparse_categorical_crossentropy', optimizer='SGD', metrics=['accuracy'])"
      ],
      "metadata": {
        "id": "g2o4FkHmpnzv"
      },
      "execution_count": 46,
      "outputs": []
    },
    {
      "cell_type": "code",
      "source": [
        "Model.fit(x_train, y_train, epochs=20)"
      ],
      "metadata": {
        "colab": {
          "base_uri": "https://localhost:8080/"
        },
        "id": "n3rCM9TFqEFQ",
        "outputId": "dc9b4a79-bb36-4757-b403-ac7fa2b4cc98"
      },
      "execution_count": 47,
      "outputs": [
        {
          "output_type": "stream",
          "name": "stdout",
          "text": [
            "Epoch 1/20\n",
            "4/4 [==============================] - 0s 3ms/step - loss: 1.5665 - accuracy: 0.3333\n",
            "Epoch 2/20\n",
            "4/4 [==============================] - 0s 4ms/step - loss: 1.2794 - accuracy: 0.1083\n",
            "Epoch 3/20\n",
            "4/4 [==============================] - 0s 3ms/step - loss: 1.1427 - accuracy: 0.0000e+00\n",
            "Epoch 4/20\n",
            "4/4 [==============================] - 0s 4ms/step - loss: 1.1313 - accuracy: 0.0000e+00\n",
            "Epoch 5/20\n",
            "4/4 [==============================] - 0s 4ms/step - loss: 1.1231 - accuracy: 0.0000e+00\n",
            "Epoch 6/20\n",
            "4/4 [==============================] - 0s 4ms/step - loss: 1.1158 - accuracy: 0.0083\n",
            "Epoch 7/20\n",
            "4/4 [==============================] - 0s 4ms/step - loss: 1.1093 - accuracy: 0.0417\n",
            "Epoch 8/20\n",
            "4/4 [==============================] - 0s 4ms/step - loss: 1.1045 - accuracy: 0.1750\n",
            "Epoch 9/20\n",
            "4/4 [==============================] - 0s 4ms/step - loss: 1.1016 - accuracy: 0.2500\n",
            "Epoch 10/20\n",
            "4/4 [==============================] - 0s 4ms/step - loss: 1.0997 - accuracy: 0.3083\n",
            "Epoch 11/20\n",
            "4/4 [==============================] - 0s 4ms/step - loss: 1.0991 - accuracy: 0.3250\n",
            "Epoch 12/20\n",
            "4/4 [==============================] - 0s 4ms/step - loss: 1.0989 - accuracy: 0.3417\n",
            "Epoch 13/20\n",
            "4/4 [==============================] - 0s 4ms/step - loss: 1.0987 - accuracy: 0.3417\n",
            "Epoch 14/20\n",
            "4/4 [==============================] - 0s 4ms/step - loss: 1.0985 - accuracy: 0.3417\n",
            "Epoch 15/20\n",
            "4/4 [==============================] - 0s 4ms/step - loss: 1.0984 - accuracy: 0.3500\n",
            "Epoch 16/20\n",
            "4/4 [==============================] - 0s 3ms/step - loss: 1.0983 - accuracy: 0.3500\n",
            "Epoch 17/20\n",
            "4/4 [==============================] - 0s 7ms/step - loss: 1.0983 - accuracy: 0.3500\n",
            "Epoch 18/20\n",
            "4/4 [==============================] - 0s 3ms/step - loss: 1.0982 - accuracy: 0.3500\n",
            "Epoch 19/20\n",
            "4/4 [==============================] - 0s 4ms/step - loss: 1.0982 - accuracy: 0.3583\n",
            "Epoch 20/20\n",
            "4/4 [==============================] - 0s 3ms/step - loss: 1.0981 - accuracy: 0.3583\n"
          ]
        },
        {
          "output_type": "execute_result",
          "data": {
            "text/plain": [
              "<keras.callbacks.History at 0x7fbc6976c190>"
            ]
          },
          "metadata": {},
          "execution_count": 47
        }
      ]
    },
    {
      "cell_type": "code",
      "source": [
        "test_loss, test_accuracy = Model.evaluate(x_test, y_test)"
      ],
      "metadata": {
        "colab": {
          "base_uri": "https://localhost:8080/"
        },
        "id": "ZEi-tbH9sY_z",
        "outputId": "7390a905-c207-4a72-b474-9ab5422e662a"
      },
      "execution_count": 48,
      "outputs": [
        {
          "output_type": "stream",
          "name": "stdout",
          "text": [
            "1/1 [==============================] - 0s 259ms/step - loss: 1.1024 - accuracy: 0.2333\n"
          ]
        }
      ]
    },
    {
      "cell_type": "code",
      "source": [
        "print(test_loss, test_accuracy)"
      ],
      "metadata": {
        "colab": {
          "base_uri": "https://localhost:8080/"
        },
        "id": "1VIKHPMrstk9",
        "outputId": "da590c7e-b661-4a60-cac0-7e8ff8df4371"
      },
      "execution_count": 49,
      "outputs": [
        {
          "output_type": "stream",
          "name": "stdout",
          "text": [
            "1.102350115776062 0.23333333432674408\n"
          ]
        }
      ]
    }
  ]
}