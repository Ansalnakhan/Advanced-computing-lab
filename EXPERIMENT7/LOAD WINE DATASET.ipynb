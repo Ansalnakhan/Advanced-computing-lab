{
  "nbformat": 4,
  "nbformat_minor": 0,
  "metadata": {
    "colab": {
      "name": "Untitled31.ipynb",
      "provenance": [],
      "authorship_tag": "ABX9TyM3po3jWd5O9MSSgR3OhObo",
      "include_colab_link": true
    },
    "kernelspec": {
      "name": "python3",
      "display_name": "Python 3"
    },
    "language_info": {
      "name": "python"
    }
  },
  "cells": [
    {
      "cell_type": "markdown",
      "metadata": {
        "id": "view-in-github",
        "colab_type": "text"
      },
      "source": [
        "<a href=\"https://colab.research.google.com/github/Ansalnakhan/Advanced-computing-lab/blob/main/EXPERIMENT7/LOAD%20WINE%20DATASET.ipynb\" target=\"_parent\"><img src=\"https://colab.research.google.com/assets/colab-badge.svg\" alt=\"Open In Colab\"/></a>"
      ]
    },
    {
      "cell_type": "code",
      "execution_count": 71,
      "metadata": {
        "id": "4ZfAAnrVmhP8"
      },
      "outputs": [],
      "source": [
        "from sklearn.datasets import load_wine\n",
        "data=load_wine()\n",
        "x=data.data\n",
        "y=data.target"
      ]
    },
    {
      "cell_type": "code",
      "source": [
        ""
      ],
      "metadata": {
        "id": "lJNjWpTymuem"
      },
      "execution_count": 71,
      "outputs": []
    },
    {
      "cell_type": "code",
      "source": [
        ""
      ],
      "metadata": {
        "id": "xk3XBrsWnDAO"
      },
      "execution_count": 71,
      "outputs": []
    },
    {
      "cell_type": "code",
      "source": [
        ""
      ],
      "metadata": {
        "id": "AYPViSf4nKI1"
      },
      "execution_count": 71,
      "outputs": []
    },
    {
      "cell_type": "code",
      "source": [
        "from sklearn.model_selection import train_test_split"
      ],
      "metadata": {
        "id": "mxSj_XJFnPB0"
      },
      "execution_count": 72,
      "outputs": []
    },
    {
      "cell_type": "code",
      "source": [
        "x_train, x_test, y_train, y_test=train_test_split(x, y, test_size=0.2)"
      ],
      "metadata": {
        "id": "2HvsaGaWnZkZ"
      },
      "execution_count": 73,
      "outputs": []
    },
    {
      "cell_type": "code",
      "source": [
        "import tensorflow as tf"
      ],
      "metadata": {
        "id": "mt6nUcszn2vr"
      },
      "execution_count": 74,
      "outputs": []
    },
    {
      "cell_type": "code",
      "source": [
        "from tensorflow import keras"
      ],
      "metadata": {
        "id": "AtO8PKE8n7gj"
      },
      "execution_count": 75,
      "outputs": []
    },
    {
      "cell_type": "code",
      "source": [
        "Model = keras.models.Sequential()"
      ],
      "metadata": {
        "id": "uuFXnfGHoDBG"
      },
      "execution_count": 76,
      "outputs": []
    },
    {
      "cell_type": "code",
      "source": [
        "Model.add(keras.layers.Dense(units=5, activation='relu', input_dim=x.shape[1]))"
      ],
      "metadata": {
        "id": "qTS9DsSwohbd"
      },
      "execution_count": 77,
      "outputs": []
    },
    {
      "cell_type": "code",
      "source": [
        "Model.add(keras.layers.Dense(units=1, activation='relu'))"
      ],
      "metadata": {
        "id": "28D16ncepJje"
      },
      "execution_count": 78,
      "outputs": []
    },
    {
      "cell_type": "code",
      "source": [
        "Model.add(keras.layers.Dense(units=3, activation='sigmoid'))"
      ],
      "metadata": {
        "id": "bwSWBnhlpZLe"
      },
      "execution_count": 79,
      "outputs": []
    },
    {
      "cell_type": "code",
      "source": [
        "Model.summary()"
      ],
      "metadata": {
        "colab": {
          "base_uri": "https://localhost:8080/"
        },
        "id": "FLmMGTeUph0J",
        "outputId": "d5d2d8d0-ebf2-42ea-bd7e-a9bd7a0f3039"
      },
      "execution_count": 80,
      "outputs": [
        {
          "output_type": "stream",
          "name": "stdout",
          "text": [
            "Model: \"sequential_4\"\n",
            "_________________________________________________________________\n",
            " Layer (type)                Output Shape              Param #   \n",
            "=================================================================\n",
            " dense_9 (Dense)             (None, 5)                 70        \n",
            "                                                                 \n",
            " dense_10 (Dense)            (None, 1)                 6         \n",
            "                                                                 \n",
            " dense_11 (Dense)            (None, 3)                 6         \n",
            "                                                                 \n",
            "=================================================================\n",
            "Total params: 82\n",
            "Trainable params: 82\n",
            "Non-trainable params: 0\n",
            "_________________________________________________________________\n"
          ]
        }
      ]
    },
    {
      "cell_type": "code",
      "source": [
        "Model.compile(loss='sparse_categorical_crossentropy', optimizer='SGD', metrics=['accuracy'])"
      ],
      "metadata": {
        "id": "g2o4FkHmpnzv"
      },
      "execution_count": 81,
      "outputs": []
    },
    {
      "cell_type": "code",
      "source": [
        "Model.fit(x_train, y_train, epochs=20)"
      ],
      "metadata": {
        "colab": {
          "base_uri": "https://localhost:8080/"
        },
        "id": "n3rCM9TFqEFQ",
        "outputId": "6738ce79-2fcf-492c-a2db-4c42e6697f11"
      },
      "execution_count": 82,
      "outputs": [
        {
          "output_type": "stream",
          "name": "stdout",
          "text": [
            "Epoch 1/20\n",
            "5/5 [==============================] - 0s 5ms/step - loss: 1.7970 - accuracy: 0.2676\n",
            "Epoch 2/20\n",
            "5/5 [==============================] - 0s 4ms/step - loss: 1.0990 - accuracy: 0.3169\n",
            "Epoch 3/20\n",
            "5/5 [==============================] - 0s 4ms/step - loss: 1.0984 - accuracy: 0.3451\n",
            "Epoch 4/20\n",
            "5/5 [==============================] - 0s 5ms/step - loss: 1.0977 - accuracy: 0.4085\n",
            "Epoch 5/20\n",
            "5/5 [==============================] - 0s 4ms/step - loss: 1.0973 - accuracy: 0.4085\n",
            "Epoch 6/20\n",
            "5/5 [==============================] - 0s 5ms/step - loss: 1.0969 - accuracy: 0.4085\n",
            "Epoch 7/20\n",
            "5/5 [==============================] - 0s 4ms/step - loss: 1.0963 - accuracy: 0.4085\n",
            "Epoch 8/20\n",
            "5/5 [==============================] - 0s 4ms/step - loss: 1.0960 - accuracy: 0.4085\n",
            "Epoch 9/20\n",
            "5/5 [==============================] - 0s 4ms/step - loss: 1.0955 - accuracy: 0.4085\n",
            "Epoch 10/20\n",
            "5/5 [==============================] - 0s 4ms/step - loss: 1.0951 - accuracy: 0.4085\n",
            "Epoch 11/20\n",
            "5/5 [==============================] - 0s 5ms/step - loss: 1.0948 - accuracy: 0.4085\n",
            "Epoch 12/20\n",
            "5/5 [==============================] - 0s 6ms/step - loss: 1.0945 - accuracy: 0.4085\n",
            "Epoch 13/20\n",
            "5/5 [==============================] - 0s 4ms/step - loss: 1.0941 - accuracy: 0.4085\n",
            "Epoch 14/20\n",
            "5/5 [==============================] - 0s 4ms/step - loss: 1.0938 - accuracy: 0.4085\n",
            "Epoch 15/20\n",
            "5/5 [==============================] - 0s 5ms/step - loss: 1.0934 - accuracy: 0.4085\n",
            "Epoch 16/20\n",
            "5/5 [==============================] - 0s 4ms/step - loss: 1.0931 - accuracy: 0.4085\n",
            "Epoch 17/20\n",
            "5/5 [==============================] - 0s 4ms/step - loss: 1.0930 - accuracy: 0.4085\n",
            "Epoch 18/20\n",
            "5/5 [==============================] - 0s 6ms/step - loss: 1.0926 - accuracy: 0.4085\n",
            "Epoch 19/20\n",
            "5/5 [==============================] - 0s 4ms/step - loss: 1.0924 - accuracy: 0.4085\n",
            "Epoch 20/20\n",
            "5/5 [==============================] - 0s 5ms/step - loss: 1.0921 - accuracy: 0.4085\n"
          ]
        },
        {
          "output_type": "execute_result",
          "data": {
            "text/plain": [
              "<keras.callbacks.History at 0x7fbc69569f10>"
            ]
          },
          "metadata": {},
          "execution_count": 82
        }
      ]
    },
    {
      "cell_type": "code",
      "source": [
        "test_loss, test_accuracy = Model.evaluate(x_test, y_test)"
      ],
      "metadata": {
        "colab": {
          "base_uri": "https://localhost:8080/"
        },
        "id": "ZEi-tbH9sY_z",
        "outputId": "1cb3d4f0-038c-475f-867c-e8ec975ec6d7"
      },
      "execution_count": 83,
      "outputs": [
        {
          "output_type": "stream",
          "name": "stdout",
          "text": [
            "2/2 [==============================] - 0s 7ms/step - loss: 1.0947 - accuracy: 0.3611\n"
          ]
        }
      ]
    },
    {
      "cell_type": "code",
      "source": [
        "print(test_loss, test_accuracy)"
      ],
      "metadata": {
        "colab": {
          "base_uri": "https://localhost:8080/"
        },
        "id": "1VIKHPMrstk9",
        "outputId": "4714405d-1b86-4993-d2fe-9303f80776db"
      },
      "execution_count": 84,
      "outputs": [
        {
          "output_type": "stream",
          "name": "stdout",
          "text": [
            "1.0946605205535889 0.3611111044883728\n"
          ]
        }
      ]
    }
  ]
}