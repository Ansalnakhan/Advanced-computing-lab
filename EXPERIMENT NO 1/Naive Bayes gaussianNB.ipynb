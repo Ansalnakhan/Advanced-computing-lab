{
  "nbformat": 4,
  "nbformat_minor": 0,
  "metadata": {
    "colab": {
      "name": "Untitled11.ipynb",
      "provenance": [],
      "authorship_tag": "ABX9TyPZyvrcjvoJRx5r5PZc5mXD",
      "include_colab_link": true
    },
    "kernelspec": {
      "name": "python3",
      "display_name": "Python 3"
    },
    "language_info": {
      "name": "python"
    }
  },
  "cells": [
    {
      "cell_type": "markdown",
      "metadata": {
        "id": "view-in-github",
        "colab_type": "text"
      },
      "source": [
        "<a href=\"https://colab.research.google.com/github/Ansalnakhan/Advanced-computing-lab/blob/main/EXPERIMENT%20NO%201/Naive%20Bayes%20gaussianNB.ipynb\" target=\"_parent\"><img src=\"https://colab.research.google.com/assets/colab-badge.svg\" alt=\"Open In Colab\"/></a>"
      ]
    },
    {
      "cell_type": "code",
      "execution_count": 1,
      "metadata": {
        "id": "h7xjZk3Ug2Bh"
      },
      "outputs": [],
      "source": [
        "import numpy as np\n",
        "import pandas as pd"
      ]
    },
    {
      "cell_type": "code",
      "source": [
        "from sklearn.datasets import load_wine\n",
        "data = load_wine()\n",
        "x=data.data\n",
        "y=data.target"
      ],
      "metadata": {
        "id": "7euD6IYzhGsN"
      },
      "execution_count": 4,
      "outputs": []
    },
    {
      "cell_type": "code",
      "source": [
        "from sklearn.model_selection import train_test_split"
      ],
      "metadata": {
        "id": "sL7yfVBCiPv3"
      },
      "execution_count": 5,
      "outputs": []
    },
    {
      "cell_type": "code",
      "source": [
        "from sklearn.naive_bayes import GaussianNB"
      ],
      "metadata": {
        "id": "czWjhFUZicCk"
      },
      "execution_count": 6,
      "outputs": []
    },
    {
      "cell_type": "code",
      "source": [
        "x_train, x_test, y_train, y_test = train_test_split(x, y, test_size=0.3, random_state=0)"
      ],
      "metadata": {
        "id": "iTiWykQyin0E"
      },
      "execution_count": 11,
      "outputs": []
    },
    {
      "cell_type": "code",
      "source": [
        "x_train"
      ],
      "metadata": {
        "colab": {
          "base_uri": "https://localhost:8080/"
        },
        "id": "QtMtCJYujScS",
        "outputId": "5b4a2e12-110d-4706-eee9-7096f8e4d122"
      },
      "execution_count": 13,
      "outputs": [
        {
          "output_type": "execute_result",
          "data": {
            "text/plain": [
              "array([[1.358e+01, 1.660e+00, 2.360e+00, 1.910e+01, 1.060e+02, 2.860e+00,\n",
              "        3.190e+00, 2.200e-01, 1.950e+00, 6.900e+00, 1.090e+00, 2.880e+00,\n",
              "        1.515e+03],\n",
              "       [1.308e+01, 3.900e+00, 2.360e+00, 2.150e+01, 1.130e+02, 1.410e+00,\n",
              "        1.390e+00, 3.400e-01, 1.140e+00, 9.400e+00, 5.700e-01, 1.330e+00,\n",
              "        5.500e+02],\n",
              "       [1.179e+01, 2.130e+00, 2.780e+00, 2.850e+01, 9.200e+01, 2.130e+00,\n",
              "        2.240e+00, 5.800e-01, 1.760e+00, 3.000e+00, 9.700e-01, 2.440e+00,\n",
              "        4.660e+02],\n",
              "       [1.245e+01, 3.030e+00, 2.640e+00, 2.700e+01, 9.700e+01, 1.900e+00,\n",
              "        5.800e-01, 6.300e-01, 1.140e+00, 7.500e+00, 6.700e-01, 1.730e+00,\n",
              "        8.800e+02],\n",
              "       [1.368e+01, 1.830e+00, 2.360e+00, 1.720e+01, 1.040e+02, 2.420e+00,\n",
              "        2.690e+00, 4.200e-01, 1.970e+00, 3.840e+00, 1.230e+00, 2.870e+00,\n",
              "        9.900e+02],\n",
              "       [1.352e+01, 3.170e+00, 2.720e+00, 2.350e+01, 9.700e+01, 1.550e+00,\n",
              "        5.200e-01, 5.000e-01, 5.500e-01, 4.350e+00, 8.900e-01, 2.060e+00,\n",
              "        5.200e+02],\n",
              "       [1.350e+01, 3.120e+00, 2.620e+00, 2.400e+01, 1.230e+02, 1.400e+00,\n",
              "        1.570e+00, 2.200e-01, 1.250e+00, 8.600e+00, 5.900e-01, 1.300e+00,\n",
              "        5.000e+02],\n",
              "       [1.287e+01, 4.610e+00, 2.480e+00, 2.150e+01, 8.600e+01, 1.700e+00,\n",
              "        6.500e-01, 4.700e-01, 8.600e-01, 7.650e+00, 5.400e-01, 1.860e+00,\n",
              "        6.250e+02],\n",
              "       [1.402e+01, 1.680e+00, 2.210e+00, 1.600e+01, 9.600e+01, 2.650e+00,\n",
              "        2.330e+00, 2.600e-01, 1.980e+00, 4.700e+00, 1.040e+00, 3.590e+00,\n",
              "        1.035e+03],\n",
              "       [1.229e+01, 3.170e+00, 2.210e+00, 1.800e+01, 8.800e+01, 2.850e+00,\n",
              "        2.990e+00, 4.500e-01, 2.810e+00, 2.300e+00, 1.420e+00, 2.830e+00,\n",
              "        4.060e+02],\n",
              "       [1.208e+01, 1.130e+00, 2.510e+00, 2.400e+01, 7.800e+01, 2.000e+00,\n",
              "        1.580e+00, 4.000e-01, 1.400e+00, 2.200e+00, 1.310e+00, 2.720e+00,\n",
              "        6.300e+02],\n",
              "       [1.270e+01, 3.870e+00, 2.400e+00, 2.300e+01, 1.010e+02, 2.830e+00,\n",
              "        2.550e+00, 4.300e-01, 1.950e+00, 2.570e+00, 1.190e+00, 3.130e+00,\n",
              "        4.630e+02],\n",
              "       [1.103e+01, 1.510e+00, 2.200e+00, 2.150e+01, 8.500e+01, 2.460e+00,\n",
              "        2.170e+00, 5.200e-01, 2.010e+00, 1.900e+00, 1.710e+00, 2.870e+00,\n",
              "        4.070e+02],\n",
              "       [1.332e+01, 3.240e+00, 2.380e+00, 2.150e+01, 9.200e+01, 1.930e+00,\n",
              "        7.600e-01, 4.500e-01, 1.250e+00, 8.420e+00, 5.500e-01, 1.620e+00,\n",
              "        6.500e+02],\n",
              "       [1.413e+01, 4.100e+00, 2.740e+00, 2.450e+01, 9.600e+01, 2.050e+00,\n",
              "        7.600e-01, 5.600e-01, 1.350e+00, 9.200e+00, 6.100e-01, 1.600e+00,\n",
              "        5.600e+02],\n",
              "       [1.349e+01, 1.660e+00, 2.240e+00, 2.400e+01, 8.700e+01, 1.880e+00,\n",
              "        1.840e+00, 2.700e-01, 1.030e+00, 3.740e+00, 9.800e-01, 2.780e+00,\n",
              "        4.720e+02],\n",
              "       [1.184e+01, 2.890e+00, 2.230e+00, 1.800e+01, 1.120e+02, 1.720e+00,\n",
              "        1.320e+00, 4.300e-01, 9.500e-01, 2.650e+00, 9.600e-01, 2.520e+00,\n",
              "        5.000e+02],\n",
              "       [1.305e+01, 2.050e+00, 3.220e+00, 2.500e+01, 1.240e+02, 2.630e+00,\n",
              "        2.680e+00, 4.700e-01, 1.920e+00, 3.580e+00, 1.130e+00, 3.200e+00,\n",
              "        8.300e+02],\n",
              "       [1.272e+01, 1.810e+00, 2.200e+00, 1.880e+01, 8.600e+01, 2.200e+00,\n",
              "        2.530e+00, 2.600e-01, 1.770e+00, 3.900e+00, 1.160e+00, 3.140e+00,\n",
              "        7.140e+02],\n",
              "       [1.282e+01, 3.370e+00, 2.300e+00, 1.950e+01, 8.800e+01, 1.480e+00,\n",
              "        6.600e-01, 4.000e-01, 9.700e-01, 1.026e+01, 7.200e-01, 1.750e+00,\n",
              "        6.850e+02],\n",
              "       [1.340e+01, 4.600e+00, 2.860e+00, 2.500e+01, 1.120e+02, 1.980e+00,\n",
              "        9.600e-01, 2.700e-01, 1.110e+00, 8.500e+00, 6.700e-01, 1.920e+00,\n",
              "        6.300e+02],\n",
              "       [1.422e+01, 3.990e+00, 2.510e+00, 1.320e+01, 1.280e+02, 3.000e+00,\n",
              "        3.040e+00, 2.000e-01, 2.080e+00, 5.100e+00, 8.900e-01, 3.530e+00,\n",
              "        7.600e+02],\n",
              "       [1.372e+01, 1.430e+00, 2.500e+00, 1.670e+01, 1.080e+02, 3.400e+00,\n",
              "        3.670e+00, 1.900e-01, 2.040e+00, 6.800e+00, 8.900e-01, 2.870e+00,\n",
              "        1.285e+03],\n",
              "       [1.293e+01, 2.810e+00, 2.700e+00, 2.100e+01, 9.600e+01, 1.540e+00,\n",
              "        5.000e-01, 5.300e-01, 7.500e-01, 4.600e+00, 7.700e-01, 2.310e+00,\n",
              "        6.000e+02],\n",
              "       [1.164e+01, 2.060e+00, 2.460e+00, 2.160e+01, 8.400e+01, 1.950e+00,\n",
              "        1.690e+00, 4.800e-01, 1.350e+00, 2.800e+00, 1.000e+00, 2.750e+00,\n",
              "        6.800e+02],\n",
              "       [1.229e+01, 1.610e+00, 2.210e+00, 2.040e+01, 1.030e+02, 1.100e+00,\n",
              "        1.020e+00, 3.700e-01, 1.460e+00, 3.050e+00, 9.060e-01, 1.820e+00,\n",
              "        8.700e+02],\n",
              "       [1.165e+01, 1.670e+00, 2.620e+00, 2.600e+01, 8.800e+01, 1.920e+00,\n",
              "        1.610e+00, 4.000e-01, 1.340e+00, 2.600e+00, 1.360e+00, 3.210e+00,\n",
              "        5.620e+02],\n",
              "       [1.328e+01, 1.640e+00, 2.840e+00, 1.550e+01, 1.100e+02, 2.600e+00,\n",
              "        2.680e+00, 3.400e-01, 1.360e+00, 4.600e+00, 1.090e+00, 2.780e+00,\n",
              "        8.800e+02],\n",
              "       [1.293e+01, 3.800e+00, 2.650e+00, 1.860e+01, 1.020e+02, 2.410e+00,\n",
              "        2.410e+00, 2.500e-01, 1.980e+00, 4.500e+00, 1.030e+00, 3.520e+00,\n",
              "        7.700e+02],\n",
              "       [1.386e+01, 1.350e+00, 2.270e+00, 1.600e+01, 9.800e+01, 2.980e+00,\n",
              "        3.150e+00, 2.200e-01, 1.850e+00, 7.220e+00, 1.010e+00, 3.550e+00,\n",
              "        1.045e+03],\n",
              "       [1.182e+01, 1.720e+00, 1.880e+00, 1.950e+01, 8.600e+01, 2.500e+00,\n",
              "        1.640e+00, 3.700e-01, 1.420e+00, 2.060e+00, 9.400e-01, 2.440e+00,\n",
              "        4.150e+02],\n",
              "       [1.237e+01, 1.170e+00, 1.920e+00, 1.960e+01, 7.800e+01, 2.110e+00,\n",
              "        2.000e+00, 2.700e-01, 1.040e+00, 4.680e+00, 1.120e+00, 3.480e+00,\n",
              "        5.100e+02],\n",
              "       [1.242e+01, 1.610e+00, 2.190e+00, 2.250e+01, 1.080e+02, 2.000e+00,\n",
              "        2.090e+00, 3.400e-01, 1.610e+00, 2.060e+00, 1.060e+00, 2.960e+00,\n",
              "        3.450e+02],\n",
              "       [1.390e+01, 1.680e+00, 2.120e+00, 1.600e+01, 1.010e+02, 3.100e+00,\n",
              "        3.390e+00, 2.100e-01, 2.140e+00, 6.100e+00, 9.100e-01, 3.330e+00,\n",
              "        9.850e+02],\n",
              "       [1.416e+01, 2.510e+00, 2.480e+00, 2.000e+01, 9.100e+01, 1.680e+00,\n",
              "        7.000e-01, 4.400e-01, 1.240e+00, 9.700e+00, 6.200e-01, 1.710e+00,\n",
              "        6.600e+02]])"
            ]
          },
          "metadata": {},
          "execution_count": 13
        }
      ]
    },
    {
      "cell_type": "code",
      "source": [
        "gnb = GaussianNB()"
      ],
      "metadata": {
        "id": "P9m_0H0djfgT"
      },
      "execution_count": 14,
      "outputs": []
    },
    {
      "cell_type": "code",
      "source": [
        "model = gnb.fit(x_train,y_train)"
      ],
      "metadata": {
        "id": "KUeTAGcLjkwn"
      },
      "execution_count": 19,
      "outputs": []
    },
    {
      "cell_type": "code",
      "source": [
        "res = model.predict(x_test)"
      ],
      "metadata": {
        "id": "LHEBkiIljyEZ"
      },
      "execution_count": 20,
      "outputs": []
    },
    {
      "cell_type": "code",
      "source": [
        "from sklearn.metrics import accuracy_score"
      ],
      "metadata": {
        "id": "U_C3tIzIkFGy"
      },
      "execution_count": 21,
      "outputs": []
    },
    {
      "cell_type": "code",
      "source": [
        "accuracy=accuracy_score(y_test,res)"
      ],
      "metadata": {
        "id": "-Mw6g74CkQL9"
      },
      "execution_count": 22,
      "outputs": []
    },
    {
      "cell_type": "code",
      "source": [
        "print(accuracy*100)"
      ],
      "metadata": {
        "colab": {
          "base_uri": "https://localhost:8080/"
        },
        "id": "bfcS6Z5Bkb1u",
        "outputId": "da21b212-ba99-45d6-aefd-86128b52afa2"
      },
      "execution_count": 23,
      "outputs": [
        {
          "output_type": "stream",
          "name": "stdout",
          "text": [
            "96.5034965034965\n"
          ]
        }
      ]
    },
    {
      "cell_type": "code",
      "source": [
        "x_test.shape"
      ],
      "metadata": {
        "colab": {
          "base_uri": "https://localhost:8080/"
        },
        "id": "tpNHi4d_klaB",
        "outputId": "3c152710-89ff-4576-897c-2d1739cbc6cf"
      },
      "execution_count": 24,
      "outputs": [
        {
          "output_type": "execute_result",
          "data": {
            "text/plain": [
              "(143, 13)"
            ]
          },
          "metadata": {},
          "execution_count": 24
        }
      ]
    },
    {
      "cell_type": "code",
      "source": [
        "x_test.shape[0]"
      ],
      "metadata": {
        "colab": {
          "base_uri": "https://localhost:8080/"
        },
        "id": "IsZXSm4ckpql",
        "outputId": "8092a4f4-4e5a-4403-db62-8e9b6c1b08d1"
      },
      "execution_count": 26,
      "outputs": [
        {
          "output_type": "execute_result",
          "data": {
            "text/plain": [
              "143"
            ]
          },
          "metadata": {},
          "execution_count": 26
        }
      ]
    },
    {
      "cell_type": "code",
      "source": [
        ""
      ],
      "metadata": {
        "id": "l-vhtboqk6rF"
      },
      "execution_count": null,
      "outputs": []
    }
  ]
}